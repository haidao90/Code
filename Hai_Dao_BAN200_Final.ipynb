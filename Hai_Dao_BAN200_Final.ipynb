{
  "nbformat": 4,
  "nbformat_minor": 0,
  "metadata": {
    "colab": {
      "provenance": []
    },
    "kernelspec": {
      "name": "python3",
      "display_name": "Python 3"
    },
    "language_info": {
      "name": "python"
    }
  },
  "cells": [
    {
      "cell_type": "markdown",
      "source": [
        "# BAN200 Final"
      ],
      "metadata": {
        "id": "KmDyAPSwjblX"
      }
    },
    {
      "cell_type": "markdown",
      "source": [
        "To complete this exam you will need to modify this template by adding Python code and/or text.\n",
        "\n",
        "Before starting the exam, make sure to save a copy of this template to your personal Google Drive. If you haven't saved your own copy, any changes you make will be lost when you close your browser window.\n",
        "\n",
        "You must submit below file for this exam:\n",
        "\n",
        "\n",
        "* *ipynb file*:  You must also submit a completed copy of this notebook. Go to \"File\" in the Colab menu bar > select \"Download\" > select \"Download .ipynb\". This will download a \".ipynb\" file to your computer.\n",
        "\n",
        "This exam is to be completed individually."
      ],
      "metadata": {
        "id": "qw7OcypTMQvG"
      }
    },
    {
      "cell_type": "markdown",
      "source": [
        "# Question 1"
      ],
      "metadata": {
        "id": "q1tpJYet5FSX"
      }
    },
    {
      "cell_type": "markdown",
      "source": [
        "What does it mean to represent text as a \"bag-of-words\"?"
      ],
      "metadata": {
        "id": "8pOghk1-5A5z"
      }
    },
    {
      "cell_type": "code",
      "source": [
        "answers[1] = \"\"\"\n",
        "\n",
        "A bag of words is a representation of text that describes the occurrence of words within a document.\n",
        "It quantifies the frequency of words in text documents for processing in machine learning models.\n",
        "Word counts are kept track of and being disregarded the grammatical details and word order.\n",
        "Because of the order of words is ignored, meaning losing a lot of what gives text meaning.\n",
        "\n",
        "\"\"\""
      ],
      "metadata": {
        "id": "Q_pgQA555IMc"
      },
      "execution_count": null,
      "outputs": []
    },
    {
      "cell_type": "markdown",
      "source": [
        "# Question 2"
      ],
      "metadata": {
        "id": "l3nhHooL5Jgr"
      }
    },
    {
      "cell_type": "markdown",
      "source": [
        "What are the advantages and limitations of models that treat text as a bag-of-words?"
      ],
      "metadata": {
        "id": "UoXIjnzZ5Kmk"
      }
    },
    {
      "cell_type": "code",
      "source": [
        "answers[2] = \"\"\"\n",
        "\n",
        "Pros:\n",
        "- Simplicity and intepretablity\n",
        "- Quick and easy to implement\n",
        "- Efficient for computation and effective for small dataset\n",
        "- Applicable for variety of NLP tasks\n",
        "\n",
        "Cons:\n",
        "- Insensitive to word orders which might lead to the loss of contextual meaning\n",
        "- Insensitive to grammar structures\n",
        "- If the dataset is too large it might Lead to high in demensionality\n",
        "\n",
        "\"\"\""
      ],
      "metadata": {
        "id": "csfQUvvr5RPo"
      },
      "execution_count": null,
      "outputs": []
    },
    {
      "cell_type": "markdown",
      "source": [
        "# Question 3"
      ],
      "metadata": {
        "id": "_dFa0Uud5Vg8"
      }
    },
    {
      "cell_type": "markdown",
      "source": [
        "You build a bag-of-words model to classify text. Your vocabulary size is 10,000 words. How many 'x' values are there in your model?"
      ],
      "metadata": {
        "id": "2tqCrHRW5W3E"
      }
    },
    {
      "cell_type": "code",
      "source": [
        "answers[3] = 10,000"
      ],
      "metadata": {
        "id": "bTqRcTel57cS"
      },
      "execution_count": null,
      "outputs": []
    },
    {
      "cell_type": "markdown",
      "source": [
        "# Question 4"
      ],
      "metadata": {
        "id": "lYn875xu6CI4"
      }
    },
    {
      "cell_type": "markdown",
      "source": [
        "You build a sequence model to classify text. Each word in the sequence is represented as a one-hot vector. Your vocabulary size is 10,000 words and your sequence length is 200 words. How many 'x' values are there in your model?"
      ],
      "metadata": {
        "id": "oAZS-aS06ELO"
      }
    },
    {
      "cell_type": "code",
      "source": [
        "answers[4] = 10000*200 = 2,000,000"
      ],
      "metadata": {
        "id": "259ySUep6Cl3"
      },
      "execution_count": null,
      "outputs": []
    },
    {
      "cell_type": "markdown",
      "source": [
        "# Question 5"
      ],
      "metadata": {
        "id": "lx9qU6-p6AdK"
      }
    },
    {
      "cell_type": "markdown",
      "source": [
        "You build a sequence model to classify text. Each word in the sequence is represented as a 256-dimensional word embedding. Your vocabulary size is 10,000 words and your sequence length is 200 words. How many 'x' values are there in your model?"
      ],
      "metadata": {
        "id": "Cv59rkyt6RxW"
      }
    },
    {
      "cell_type": "code",
      "source": [
        "answers[5] = 256*200 = 51,200"
      ],
      "metadata": {
        "id": "UKfVUUGm6ZDo"
      },
      "execution_count": null,
      "outputs": []
    },
    {
      "cell_type": "markdown",
      "source": [
        "# Question 6"
      ],
      "metadata": {
        "id": "Zcd3NZFq3cBP"
      }
    },
    {
      "cell_type": "markdown",
      "source": [
        "What is easiest to overfit?\n",
        "\n",
        "* A - a deep learning model\n",
        "* B - a single-variable linear regression\n",
        "* C - a multiple-variable linear regression\n",
        "* D - all are equally easy to overfit"
      ],
      "metadata": {
        "id": "ihAwgNfQ3fIB"
      }
    },
    {
      "cell_type": "code",
      "source": [
        "answers[6] = 'A'"
      ],
      "metadata": {
        "id": "cyZ8mFz03_M5"
      },
      "execution_count": null,
      "outputs": []
    },
    {
      "cell_type": "markdown",
      "source": [
        "# Question 7"
      ],
      "metadata": {
        "id": "40QebSrd4IQJ"
      }
    },
    {
      "cell_type": "markdown",
      "source": [
        "Exaplain your answer to Question 6."
      ],
      "metadata": {
        "id": "c0Fw9fKr4JXK"
      }
    },
    {
      "cell_type": "code",
      "source": [
        "answers[7] = \"\"\"\n",
        "\n",
        "Deep learning model is more likely to be overfit since it is a complex model consisting of a number of parameters like neurons and layers to capture the relationship of the data.\n",
        "It is hence easily capture the irrelevant aspects of the data if parameters are not tuned appropriately.\n",
        "It happens when the model predicts correctly on the training data but the unseen one.\n",
        "\n",
        "\"\"\""
      ],
      "metadata": {
        "id": "jb7MBDcV4L-f"
      },
      "execution_count": null,
      "outputs": []
    },
    {
      "cell_type": "markdown",
      "source": [
        "# Question 8"
      ],
      "metadata": {
        "id": "T7ix6-8a6xb-"
      }
    },
    {
      "cell_type": "markdown",
      "source": [
        "When building a binary classification model, what will the output (i.e. \"y value\") used in training data look like?\n",
        "\n",
        "* A - a single number, with a value between 0 and positive infinity\n",
        "* B - a single number, with a value between 0 and 1\n",
        "* C - a single number, with a value of either 0 or 1, but nothing in-between\n",
        "* D - a vector of ten elements, where each element is a number with a value between 0 and positive infinity\n",
        "* E - a vector of ten elements, where each element is a number with a value between 0 and 1\n",
        "* F - a vector of ten elements, where each element is a number with a value of either 0 or 1, but nothing in-between"
      ],
      "metadata": {
        "id": "AEbCBcmd60Ax"
      }
    },
    {
      "cell_type": "code",
      "source": [
        "answers[8] = 'C'"
      ],
      "metadata": {
        "id": "ako6FqjF7Hf7"
      },
      "execution_count": null,
      "outputs": []
    },
    {
      "cell_type": "markdown",
      "source": [
        "# Question 9"
      ],
      "metadata": {
        "id": "xsoy-AU07UBw"
      }
    },
    {
      "cell_type": "markdown",
      "source": [
        "When building a classification model with 10 classes, what will the output (i.e. \"y value\") look like in your training data?\n",
        "\n",
        "* A - a single number, with a value between 0 and positive infinity\n",
        "* B - a single number, with a value between 0 and 1\n",
        "* C - a single number, with a value of either 0 or 1, but nothing in-between\n",
        "* D - a vector of ten elements, where each element is a number with a value between 0 and positive infinity\n",
        "* E - a vector of ten elements, where each element is a number with a value between 0 and 1\n",
        "* F - a vector of ten elements, where each element is a number with a value of either 0 or 1, but nothing in-between"
      ],
      "metadata": {
        "id": "c0KCCqJ47UBx"
      }
    },
    {
      "cell_type": "code",
      "source": [
        "answers[9] = 'F'"
      ],
      "metadata": {
        "id": "Hr94xk767UBx"
      },
      "execution_count": null,
      "outputs": []
    },
    {
      "cell_type": "markdown",
      "source": [
        "# Question 10"
      ],
      "metadata": {
        "id": "AL-HIY_57Uu_"
      }
    },
    {
      "cell_type": "markdown",
      "source": [
        "When building a classification model with 10 classes, what will the output (i.e. \"y value\") look like when you use the model to make predictions?\n",
        "\n",
        "* A - a single number, with a value between 0 and positive infinity\n",
        "* B - a single number, with a value between 0 and 1\n",
        "* C - a single number, with a value of either 0 or 1, but nothing in-between\n",
        "* D - a vector of ten elements, where each element is a number with a value between 0 and positive infinity\n",
        "* E - a vector of ten elements, where each element is a number with a value between 0 and 1\n",
        "* F - a vector of ten elements, where each element is a number with a value of either 0 or 1, but nothing in-between"
      ],
      "metadata": {
        "id": "tJuA0BKX7UvB"
      }
    },
    {
      "cell_type": "code",
      "source": [
        "answers[10] = 'E'"
      ],
      "metadata": {
        "id": "2nvDbD637UvB"
      },
      "execution_count": null,
      "outputs": []
    },
    {
      "cell_type": "markdown",
      "source": [
        "# Question 11"
      ],
      "metadata": {
        "id": "pNeVqF9y8N1X"
      }
    },
    {
      "cell_type": "markdown",
      "source": [
        "When building a single-variable linear regression, what will the output (i.e. \"y value\") used in training data look like?\n",
        "\n",
        "* A - a single number, with a value between negative infinity and positive infinity\n",
        "* B - a single number, with a value between 0 and 1\n",
        "* C - a single number, with a value of either 0 or 1, but nothing in-between\n",
        "* D - a vector of ten elements, where each element is a number with a value between 0 and positive infinity\n",
        "* E - a vector of ten elements, where each element is a number with a value between 0 and 1\n",
        "* F - a vector of ten elements, where each element is a number with a value of either 0 or 1, but nothing in-between"
      ],
      "metadata": {
        "id": "H8W2xc438R5u"
      }
    },
    {
      "cell_type": "code",
      "source": [
        "answers[11] = 'A'"
      ],
      "metadata": {
        "id": "5XDLAryH8TaB"
      },
      "execution_count": null,
      "outputs": []
    },
    {
      "cell_type": "markdown",
      "source": [
        "# Quesiton 12"
      ],
      "metadata": {
        "id": "O-_NZtnY8PGX"
      }
    },
    {
      "cell_type": "markdown",
      "source": [
        "Explain how we avoided overfitting in class."
      ],
      "metadata": {
        "id": "TK0f3eAD8Saf"
      }
    },
    {
      "cell_type": "code",
      "source": [
        "answers[12] = \"\"\"\n",
        "\n",
        "Monitoring the model's performance on a validation set during training can help prevent overfitting and optimizing to noise in the data.\n",
        "\n",
        "The first method is Early stopping involving in halting training when the validation loss starts to increase, indicating that the model is beginning to overfit the training data.\n",
        "For example, by setting patience is equal to 3, the epochs is going to stop at where the last three epochs do not increase its  validation accuracy.\n",
        "\n",
        "The second method is Dropout which means a certain percentage of neurons will be randomly dropped, regularized so that the model is not overfit.\n",
        "\n",
        "\"\"\""
      ],
      "metadata": {
        "id": "NO3unTE68T6K"
      },
      "execution_count": null,
      "outputs": []
    },
    {
      "cell_type": "markdown",
      "source": [
        "# Question 13"
      ],
      "metadata": {
        "id": "7W2446rI8QPo"
      }
    },
    {
      "cell_type": "markdown",
      "source": [
        "Describe what a recurrent neural network is."
      ],
      "metadata": {
        "id": "w6ErLrhO8TBf"
      }
    },
    {
      "cell_type": "code",
      "source": [
        "answers[13] = \"\"\"\n",
        "\n",
        "is a deep neural network trained on sequential or time series data to create a machine learning model can make sequential predictions or conclusions based on sequential inputs\n",
        "\n",
        "They take information from prior inputs to influence the current input and output. The output of recurrent neural networks depend on the prior elements within the sequence\n",
        "\n",
        "RNNs can also be used to solve such problems as language translation, natural language processing (NLP), speech recognition, and image captioning\n",
        "\n",
        "\"\"\""
      ],
      "metadata": {
        "id": "G7yYlAUt8UbF"
      },
      "execution_count": null,
      "outputs": []
    },
    {
      "cell_type": "markdown",
      "source": [
        "# Question 14"
      ],
      "metadata": {
        "id": "6g78ZO0S7pnv"
      }
    },
    {
      "cell_type": "markdown",
      "source": [
        "Describe, at a very high level, how large language models such as ChatGPT work."
      ],
      "metadata": {
        "id": "hoz8gkhs7qjo"
      }
    },
    {
      "cell_type": "code",
      "source": [
        "answers[14] = \"\"\"\n",
        "\n",
        "ChatGPT is built to comprehend and answer user questions by examining extensive text data and identifying the patterns in which words commonly occur together.\n",
        "It leverages this understanding to forecast the most probable next word in a response, much like how auto-complete features operate on search engines, smartphones, and email services.\n",
        "It then continues predicting each subsequent word in order to construct a full response.\n",
        "\n",
        "The technology behind that makes LLM work is through transformer engine including two parts, encoder and decoder, like translating task or creating a chatbot.\n",
        "In the encoder and decoder part, there are three components such as the flow of the information, feed forward neural network and self-attention.\n",
        "For instance, to build a chatbot, there are three roles needed to be fed in like system, user and assistant. System is the role of the model, user is us and assistant is the response of chatbot. The repoonses come from the LLM memory.\n",
        "\n",
        "\"\"\""
      ],
      "metadata": {
        "id": "eLl0xawJ70pd"
      },
      "execution_count": null,
      "outputs": []
    },
    {
      "cell_type": "markdown",
      "source": [
        "# Question 15"
      ],
      "metadata": {
        "id": "aw2ZTo3Y7y4w"
      }
    },
    {
      "cell_type": "markdown",
      "source": [
        "Explain, at a very high level, the purpose and application of fine-tuning."
      ],
      "metadata": {
        "id": "id3tXQH370B3"
      }
    },
    {
      "cell_type": "code",
      "source": [
        "answers[15] = \"\"\"\n",
        "\n",
        "Make your model specialized in a particular area.\n",
        "Providing an answers in advance to the model to reponse to the questions in the way that we want. Especially in some subjects that are not in the memory of LLM.\n",
        "It is like training or references for the LLM model.\n",
        "For example, it is used in sentiment analysis, image classification, or customers' chatbots.\n",
        "\n",
        "\"\"\""
      ],
      "metadata": {
        "id": "dAOiCcgg70Jd"
      },
      "execution_count": null,
      "outputs": []
    }
  ]
}